{
 "cells": [
  {
   "cell_type": "code",
   "execution_count": 1,
   "metadata": {
    "collapsed": true,
    "pycharm": {
     "is_executing": false,
     "name": "#%%\n"
    }
   },
   "outputs": [
    {
     "name": "stdout",
     "text": [
      "A1B2C3D4E5F6G7H8I9J10K11L12M13N14O15P16Q17R18S19T20U21V22W23X24Y25Z26"
     ],
     "output_type": "stream"
    }
   ],
   "source": [
    "# 线程同步\n",
    "# 多线程交替打印字母和数字\n",
    "from threading import Thread,Lock\n",
    "def print_abc():\n",
    "    for i in range(ord('A'),ord('Z')+1):\n",
    "        lock1.acquire()\n",
    "        print(chr(i),end='')\n",
    "        lock2.release()\n",
    "\n",
    "def print_digital():\n",
    "    for i in range(1,27):\n",
    "        lock2.acquire()\n",
    "        print(i,end='')\n",
    "        lock1.release()\n",
    "\n",
    "lock1 = Lock()\n",
    "lock2 = Lock()\n",
    "lock2.acquire()\n",
    "t1 = Thread(target=print_abc)\n",
    "t2 = Thread(target=print_digital)\n",
    "t1.start()\n",
    "t2.start()\n",
    "t1.join()\n",
    "t2.join()"
   ]
  },
  {
   "cell_type": "code",
   "execution_count": 1,
   "outputs": [
    {
     "data": {
      "text/plain": "[[1, 2, 3, 4, 5], [4, 5, 6], [7, 8]]"
     },
     "metadata": {},
     "output_type": "execute_result",
     "execution_count": 1
    }
   ],
   "source": [
    "'''\n",
    "小明很喜欢数学,有一天他在做数学作业时,要求计算出9~16的和,他马上就写出了正确答案是\n",
    "100。但是他并不满足于此,他在想究竟有多少种连续的正数序列的和为100(至少包括两个数)。\n",
    "没多久,他就得到另一组连续正数和为100的序列:18,19,20,21,22。现在把问题交给你,\n",
    "你能不能也很快的找出所有和为S的连续正数序列? Good Luck!\n",
    "'''\n",
    "from math import sqrt\n",
    "class Solution:\n",
    "    # 数学方法\n",
    "    def FindContinuousSequence(self, tsum):\n",
    "        result = []\n",
    "        for i in range(int(sqrt(2*tsum)),1,-1):\n",
    "            x = ((2*float(tsum)/i)-i+1) / 2\n",
    "            if round(x)==x:\n",
    "                result.append([j for j in range(int(x),int(x+i))])\n",
    "        return result\n",
    "   \n",
    "    def FindContinuousSequence(self, tsum):\n",
    "        # 初始化窗口\n",
    "        l,r = 1,1\n",
    "        sum = 0\n",
    "        result = []\n",
    "        # 因为至少要包括2个数，所以l < tsum/2\n",
    "        while l < tsum/2:\n",
    "            # 比目标和小，累加，增大窗口，窗口右边加1\n",
    "            if sum < tsum:\n",
    "                sum +=r\n",
    "                r +=1\n",
    "            # 比目标和大，减去最左边的数字，减小窗口，窗口左边加1\n",
    "            elif sum > tsum:\n",
    "                sum -=l\n",
    "                l +=1\n",
    "            # 相等，将窗口中的数字添加到结果，减去最左边的数字，窗口减小，窗口左边加1\n",
    "            else:\n",
    "                result.append([i for i in range(l,r)])\n",
    "                sum -=l\n",
    "                l +=1\n",
    "        return result    \n",
    "                \n",
    "so = Solution()\n",
    "so.FindContinuousSequence(15)\n"
   ],
   "metadata": {
    "collapsed": false,
    "pycharm": {
     "name": "#%%\n",
     "is_executing": false
    }
   }
  },
  {
   "cell_type": "code",
   "execution_count": 1,
   "outputs": [
    {
     "data": {
      "text/plain": "[1, 16]"
     },
     "metadata": {},
     "output_type": "execute_result",
     "execution_count": 1
    }
   ],
   "source": [
    "'''\n",
    "输入一个递增排序的数组和一个数字S，在数组中查找两个数，使得他们的和正好是S，\n",
    "如果有多对数字的和等于S，输出两个数的乘积最小的。\n",
    "'''\n",
    "class Solution:\n",
    "    # 哈希法\n",
    "    def FindNumbersWithSum(self, array, tsum):\n",
    "        dict_val = {}\n",
    "        for val in array:\n",
    "            dict_val[val] = val\n",
    "        for val in array:\n",
    "            if dict_val.get(tsum-val,-1) != -1:\n",
    "                return [val,tsum-val]\n",
    "        return []\n",
    "    # 双指针法\n",
    "    def FindNumbersWithSum(self, array, tsum):\n",
    "        i,j = 0,len(array)-1\n",
    "        while i<j:\n",
    "            s = array[i] + array[j]\n",
    "            if s>tsum:\n",
    "                j-=1\n",
    "            elif s<tsum:\n",
    "                i+=1\n",
    "            else:\n",
    "                return [array[i],array[j]]\n",
    "        return []\n",
    "\n",
    "so = Solution()\n",
    "so.FindNumbersWithSum([1,2,4,7,11,16],17)\n"
   ],
   "metadata": {
    "collapsed": false,
    "pycharm": {
     "name": "#%%\n",
     "is_executing": false
    }
   }
  },
  {
   "cell_type": "code",
   "execution_count": 8,
   "outputs": [],
   "source": [
    "'''\n",
    "牛客最近来了一个新员工Fish，每天早晨总是会拿着一本英文杂志，写些句子在本子上。同事Cat对Fish写的内容颇感兴趣，有一天他向Fish借来翻看，但却读不懂它的意思。例如，“student. a am I”。后来才意识到，这家伙原来把句子单词的顺序翻转了，正确的句子应该是“I am a student.”。Cat对一一的翻转这些单词顺序可不在行，你能帮助他么？\n",
    "'''\n",
    "class Solution:\n",
    "    def ReverseSentence(self, s):\n",
    "        s_list = s.split(' ')\n",
    "        i,j = 0,len(s_list)-1\n",
    "        while i<j:\n",
    "            s_list[i],s_list[j]=s_list[j],s_list[i]\n",
    "            i+=1\n",
    "            j-=1\n",
    "        return ' '.join(s_list)\n"
   ],
   "metadata": {
    "collapsed": false,
    "pycharm": {
     "name": "#%%\n",
     "is_executing": false
    }
   }
  },
  {
   "cell_type": "code",
   "execution_count": 1,
   "outputs": [
    {
     "data": {
      "text/plain": "False"
     },
     "metadata": {},
     "output_type": "execute_result",
     "execution_count": 1
    }
   ],
   "source": [
    "'''\n",
    "LL今天心情特别好,因为他去买了一副扑克牌,发现里面居然有2个大王,\n",
    "2个小王(一副牌原本是54张^_^)...他随机从中抽出了5张牌,想测测自己的手气,\n",
    "看看能不能抽到顺子,如果抽到的话,他决定去买体育彩票,嘿嘿！！“红心A,黑桃3,小王,大王,\n",
    "方片5”,“Oh My God!”不是顺子.....LL不高兴了,他想了想,决定大\\小 王可以看成任何数字,\n",
    "并且A看作1,J为11,Q为12,K为13。上面的5张牌就可以变成“1,2,3,4,5”(大小王分别看作\n",
    "2和4),“So Lucky!”。LL决定去买体育彩票啦。 现在,要求你使用这幅牌模拟上面的过程,\n",
    "然后告诉我们LL的运气如何， 如果牌能组成顺子就输出true，否则就输出false。\n",
    "为了方便起见,你可以认为大小王是0。\n",
    "'''\n",
    "class Solution:\n",
    "    def IsContinuous(self, numbers):\n",
    "        if not numbers:\n",
    "            return False\n",
    "        numbers.sort()\n",
    "        i = 0\n",
    "        while numbers[i] == 0:\n",
    "            i +=1\n",
    "        for j in range(i+1,len(numbers)):\n",
    "            if numbers[j] == numbers[j-1]:\n",
    "                return False\n",
    "        return True if numbers[-1] - numbers[i] < 5 else False\n",
    "        \n",
    "so = Solution()\n",
    "so.IsContinuous([1,3,6,0,0])"
   ],
   "metadata": {
    "collapsed": false,
    "pycharm": {
     "name": "#%%\n",
     "is_executing": false
    }
   }
  },
  {
   "cell_type": "code",
   "execution_count": 34,
   "outputs": [
    {
     "data": {
      "text/plain": "4"
     },
     "metadata": {},
     "output_type": "execute_result",
     "execution_count": 34
    }
   ],
   "source": [
    "'''\n",
    "每年六一儿童节,牛客都会准备一些小礼物去看望孤儿院的小朋友,今年亦是如此。\n",
    "HF作为牛客的资深元老,自然也准备了一些小游戏。其中,有个游戏是这样的:\n",
    "首先,让小朋友们围成一个大圈。然后,他随机指定一个数m,\n",
    "让编号为0的小朋友开始报数。每次喊到m-1的那个小朋友要出列唱首歌,\n",
    "然后可以在礼品箱中任意的挑选礼物,并且不再回到圈中,\n",
    "从他的下一个小朋友开始,继续0...m-1报数....这样下去....\n",
    "直到剩下最后一个小朋友,可以不用表演,并且拿到牛客名贵的“名侦探柯南”\n",
    "典藏版(名额有限哦!!^_^)。请你试着想下,哪个小朋友会得到这份礼品呢？\n",
    "(注：小朋友的编号是从0到n-1)\n",
    "\n",
    "如果没有小朋友，请返回-1\n",
    "'''\n",
    "class Solution:\n",
    "    # 模拟法\n",
    "    def LastRemaining_Solution(self, n, m):\n",
    "        if not n or not m:\n",
    "            return -1\n",
    "        list_n = list(range(n))\n",
    "        while len(list_n)>1:\n",
    "            lenth = len(list_n)\n",
    "            i = m % lenth -1\n",
    "            del list_n[i]\n",
    "            if i!=-1:\n",
    "                list_n = list_n[i:]+list_n[:i]\n",
    "        return list_n[0] \n",
    "    # 递归法\n",
    "    def LastRemaining_Solution(self, n, m):\n",
    "        if n==0 or m==0:\n",
    "            return -1\n",
    "        if n == 1:\n",
    "            return 0\n",
    "        return (self.LastRemaining_Solution(n-1,m)+m)%n\n",
    "    # 地推法\n",
    "    def LastRemaining_Solution(self, n, m):\n",
    "        if n==0 or m==0:\n",
    "            return -1\n",
    "        s=0\n",
    "        for i in range(2,n+1):\n",
    "            s =(s + m) % i\n",
    "        return s\n",
    "            \n",
    "so = Solution()          \n",
    "so.LastRemaining_Solution(5,1)"
   ],
   "metadata": {
    "collapsed": false,
    "pycharm": {
     "name": "#%%\n",
     "is_executing": false
    }
   }
  },
  {
   "cell_type": "code",
   "execution_count": null,
   "outputs": [],
   "source": [
    "'''\n",
    "求1+2+3+...+n，要求不能使用乘除法、for、while、if、else、switch、\n",
    "case等关键字及条件判断语句（A?B:C）。\n",
    "'''\n",
    "class Solution:\n",
    "    def Sum_Solution(self, n):\n",
    "        # write code here\n",
    "        s = (n and n+self.Sum_Solution(n-1))\n",
    "        return s\n",
    "so = Solution()\n",
    "so.Sum_Solution(5)"
   ],
   "metadata": {
    "collapsed": false,
    "pycharm": {
     "name": "#%%\n",
     "is_executing": true
    }
   }
  },
  {
   "cell_type": "code",
   "execution_count": null,
   "outputs": [],
   "source": [
    "'''\n",
    "写一个函数，求两个整数之和，要求在函数体内不得使用+、-、*、/\n",
    "四则运算符号。\n",
    "'''\n",
    "class Solution:\n",
    "    def Add(self, num1, num2):\n",
    "        while num2:\n",
    "            num1,num2 = (num1^num2)&0xffffffff,(num1&num2)<<1\n",
    "        return num1 if num1>>31 == 0 else num1 - 0x100000000"
   ],
   "metadata": {
    "collapsed": false,
    "pycharm": {
     "name": "#%%\n",
     "is_executing": true
    }
   }
  },
  {
   "cell_type": "code",
   "execution_count": 16,
   "outputs": [
    {
     "data": {
      "text/plain": "1236"
     },
     "metadata": {},
     "output_type": "execute_result",
     "execution_count": 16
    }
   ],
   "source": [
    "'''\n",
    "将一个字符串转换成一个整数，要求不能使用字符串转换整数的库函数。 \n",
    "数值为0或者字符串不是一个合法的数值则返回0\n",
    "'''\n",
    "class Solution:\n",
    "    def StrToInt(self, s):\n",
    "        try:\n",
    "            s = eval(s)\n",
    "        except Exception as e:\n",
    "            return 0\n",
    "        return s if type(s)==int else 0\n",
    "    def StrToInt(self, s):\n",
    "        sign = 1\n",
    "        tsum = 0\n",
    "        for i in range(len(s)):\n",
    "            if i == 0 and s[i] == '+':\n",
    "                sign = 1\n",
    "            elif i == 0 and s[i] == '-':\n",
    "                sign = -1\n",
    "            elif '0' <= s[i] <= '9':\n",
    "                tsum = tsum * 10 + ord(s[i])-ord('0') \n",
    "            else:\n",
    "                return 0\n",
    "        return sign * tsum\n",
    "so = Solution()\n",
    "so.StrToInt('+1236')"
   ],
   "metadata": {
    "collapsed": false,
    "pycharm": {
     "name": "#%%\n",
     "is_executing": false
    }
   }
  },
  {
   "cell_type": "code",
   "execution_count": 17,
   "outputs": [
    {
     "data": {
      "text/plain": "123"
     },
     "metadata": {},
     "output_type": "execute_result",
     "execution_count": 17
    }
   ],
   "source": [
    "int(+123)\n"
   ],
   "metadata": {
    "collapsed": false,
    "pycharm": {
     "name": "#%%\n",
     "is_executing": false
    }
   }
  }
 ],
 "metadata": {
  "kernelspec": {
   "name": "python3",
   "language": "python",
   "display_name": "Python 3"
  },
  "language_info": {
   "codemirror_mode": {
    "name": "ipython",
    "version": 2
   },
   "file_extension": ".py",
   "mimetype": "text/x-python",
   "name": "python",
   "nbconvert_exporter": "python",
   "pygments_lexer": "ipython2",
   "version": "2.7.6"
  },
  "pycharm": {
   "stem_cell": {
    "cell_type": "raw",
    "source": [],
    "metadata": {
     "collapsed": false
    }
   }
  }
 },
 "nbformat": 4,
 "nbformat_minor": 0
}