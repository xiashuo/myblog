{
 "cells": [
  {
   "cell_type": "code",
   "execution_count": 1,
   "metadata": {
    "collapsed": true,
    "pycharm": {
     "is_executing": false,
     "name": "#%%\n"
    }
   },
   "outputs": [
    {
     "name": "stdout",
     "text": [
      "A1B2C3D4E5F6G7H8I9J10K11L12M13N14O15P16Q17R18S19T20U21V22W23X24Y25Z26"
     ],
     "output_type": "stream"
    }
   ],
   "source": [
    "# 线程同步\n",
    "# 多线程交替打印字母和数字\n",
    "from threading import Thread,Lock\n",
    "def print_abc():\n",
    "    for i in range(ord('A'),ord('Z')+1):\n",
    "        lock1.acquire()\n",
    "        print(chr(i),end='')\n",
    "        lock2.release()\n",
    "\n",
    "def print_digital():\n",
    "    for i in range(1,27):\n",
    "        lock2.acquire()\n",
    "        print(i,end='')\n",
    "        lock1.release()\n",
    "\n",
    "lock1 = Lock()\n",
    "lock2 = Lock()\n",
    "lock2.acquire()\n",
    "t1 = Thread(target=print_abc)\n",
    "t2 = Thread(target=print_digital)\n",
    "t1.start()\n",
    "t2.start()\n",
    "t1.join()\n",
    "t2.join()"
   ]
  },
  {
   "cell_type": "code",
   "execution_count": 2,
   "outputs": [
    {
     "data": {
      "text/plain": "[[1, 2, 3, 4, 5], [4, 5, 6], [7, 8]]"
     },
     "metadata": {},
     "output_type": "execute_result",
     "execution_count": 2
    }
   ],
   "source": [
    "'''\n",
    "小明很喜欢数学,有一天他在做数学作业时,要求计算出9~16的和,他马上就写出了正确答案是\n",
    "100。但是他并不满足于此,他在想究竟有多少种连续的正数序列的和为100(至少包括两个数)。\n",
    "没多久,他就得到另一组连续正数和为100的序列:18,19,20,21,22。现在把问题交给你,\n",
    "你能不能也很快的找出所有和为S的连续正数序列? Good Luck!\n",
    "'''\n",
    "from math import sqrt\n",
    "class Solution:\n",
    "    # 数学方法\n",
    "    def FindContinuousSequence(self, tsum):\n",
    "        result = []\n",
    "        for i in range(int(sqrt(2*tsum)),1,-1):\n",
    "            x = ((2*float(tsum)/i)-i+1) / 2\n",
    "            if round(x)==x:\n",
    "                result.append([j for j in range(int(x),int(x+i))])\n",
    "        return result\n",
    "   \n",
    "    def FindContinuousSequence(self, tsum):\n",
    "        # 初始化窗口\n",
    "        l,r = 1,1\n",
    "        sum = 0\n",
    "        result = []\n",
    "        # 因为至少要包括2个数，所以l < tsum/2\n",
    "        while l < tsum/2:\n",
    "            # 比目标和小，累加，增大窗口，窗口右边加1\n",
    "            if sum < tsum:\n",
    "                sum +=r\n",
    "                r +=1\n",
    "            # 比目标和大，减去最左边的数字，减小窗口，窗口左边加1\n",
    "            elif sum > tsum:\n",
    "                sum -=l\n",
    "                l +=1\n",
    "            # 相等，将窗口中的数字添加到结果，减去最左边的数字，窗口减小，窗口左边加1\n",
    "            else:\n",
    "                result.append([i for i in range(l,r)])\n",
    "                sum -=l\n",
    "                l +=1\n",
    "        return result    \n",
    "                \n",
    "so = Solution()\n",
    "so.FindContinuousSequence(15)\n"
   ],
   "metadata": {
    "collapsed": false,
    "pycharm": {
     "name": "#%%\n",
     "is_executing": false
    }
   }
  },
  {
   "cell_type": "code",
   "execution_count": 3,
   "outputs": [
    {
     "data": {
      "text/plain": "[1, 16]"
     },
     "metadata": {},
     "output_type": "execute_result",
     "execution_count": 3
    }
   ],
   "source": [
    "'''\n",
    "输入一个递增排序的数组和一个数字S，在数组中查找两个数，使得他们的和正好是S，\n",
    "如果有多对数字的和等于S，输出两个数的乘积最小的。\n",
    "'''\n",
    "class Solution:\n",
    "    # 哈希法\n",
    "    def FindNumbersWithSum(self, array, tsum):\n",
    "        dict_val = {}\n",
    "        for val in array:\n",
    "            dict_val[val] = val\n",
    "        for val in array:\n",
    "            if dict_val.get(tsum-val,-1) != -1:\n",
    "                return [val,tsum-val]\n",
    "        return []\n",
    "    # 双指针法\n",
    "    def FindNumbersWithSum(self, array, tsum):\n",
    "        i,j = 0,len(array)-1\n",
    "        while i<j:\n",
    "            s = array[i] + array[j]\n",
    "            if s>tsum:\n",
    "                j-=1\n",
    "            elif s<tsum:\n",
    "                i+=1\n",
    "            else:\n",
    "                return [array[i],array[j]]\n",
    "        return []\n",
    "\n",
    "so = Solution()\n",
    "so.FindNumbersWithSum([1,2,4,7,11,16],17)\n"
   ],
   "metadata": {
    "collapsed": false,
    "pycharm": {
     "name": "#%%\n",
     "is_executing": false
    }
   }
  },
  {
   "cell_type": "code",
   "execution_count": 4,
   "outputs": [],
   "source": [
    "'''\n",
    "牛客最近来了一个新员工Fish，每天早晨总是会拿着一本英文杂志，写些句子在本子上。同事Cat对Fish写的内容颇感兴趣，有一天他向Fish借来翻看，但却读不懂它的意思。例如，“student. a am I”。后来才意识到，这家伙原来把句子单词的顺序翻转了，正确的句子应该是“I am a student.”。Cat对一一的翻转这些单词顺序可不在行，你能帮助他么？\n",
    "'''\n",
    "class Solution:\n",
    "    def ReverseSentence(self, s):\n",
    "        s_list = s.split(' ')\n",
    "        i,j = 0,len(s_list)-1\n",
    "        while i<j:\n",
    "            s_list[i],s_list[j]=s_list[j],s_list[i]\n",
    "            i+=1\n",
    "            j-=1\n",
    "        return ' '.join(s_list)\n"
   ],
   "metadata": {
    "collapsed": false,
    "pycharm": {
     "name": "#%%\n",
     "is_executing": false
    }
   }
  },
  {
   "cell_type": "code",
   "execution_count": 5,
   "outputs": [
    {
     "data": {
      "text/plain": "False"
     },
     "metadata": {},
     "output_type": "execute_result",
     "execution_count": 5
    }
   ],
   "source": [
    "'''\n",
    "LL今天心情特别好,因为他去买了一副扑克牌,发现里面居然有2个大王,\n",
    "2个小王(一副牌原本是54张^_^)...他随机从中抽出了5张牌,想测测自己的手气,\n",
    "看看能不能抽到顺子,如果抽到的话,他决定去买体育彩票,嘿嘿！！“红心A,黑桃3,小王,大王,\n",
    "方片5”,“Oh My God!”不是顺子.....LL不高兴了,他想了想,决定大\\小 王可以看成任何数字,\n",
    "并且A看作1,J为11,Q为12,K为13。上面的5张牌就可以变成“1,2,3,4,5”(大小王分别看作\n",
    "2和4),“So Lucky!”。LL决定去买体育彩票啦。 现在,要求你使用这幅牌模拟上面的过程,\n",
    "然后告诉我们LL的运气如何， 如果牌能组成顺子就输出true，否则就输出false。\n",
    "为了方便起见,你可以认为大小王是0。\n",
    "'''\n",
    "class Solution:\n",
    "    def IsContinuous(self, numbers):\n",
    "        if not numbers:\n",
    "            return False\n",
    "        numbers.sort()\n",
    "        i = 0\n",
    "        while numbers[i] == 0:\n",
    "            i +=1\n",
    "        for j in range(i+1,len(numbers)):\n",
    "            if numbers[j] == numbers[j-1]:\n",
    "                return False\n",
    "        return True if numbers[-1] - numbers[i] < 5 else False\n",
    "        \n",
    "so = Solution()\n",
    "so.IsContinuous([1,3,6,0,0])"
   ],
   "metadata": {
    "collapsed": false,
    "pycharm": {
     "name": "#%%\n",
     "is_executing": false
    }
   }
  },
  {
   "cell_type": "code",
   "execution_count": 6,
   "outputs": [
    {
     "data": {
      "text/plain": "4"
     },
     "metadata": {},
     "output_type": "execute_result",
     "execution_count": 6
    }
   ],
   "source": [
    "'''\n",
    "每年六一儿童节,牛客都会准备一些小礼物去看望孤儿院的小朋友,今年亦是如此。\n",
    "HF作为牛客的资深元老,自然也准备了一些小游戏。其中,有个游戏是这样的:\n",
    "首先,让小朋友们围成一个大圈。然后,他随机指定一个数m,\n",
    "让编号为0的小朋友开始报数。每次喊到m-1的那个小朋友要出列唱首歌,\n",
    "然后可以在礼品箱中任意的挑选礼物,并且不再回到圈中,\n",
    "从他的下一个小朋友开始,继续0...m-1报数....这样下去....\n",
    "直到剩下最后一个小朋友,可以不用表演,并且拿到牛客名贵的“名侦探柯南”\n",
    "典藏版(名额有限哦!!^_^)。请你试着想下,哪个小朋友会得到这份礼品呢？\n",
    "(注：小朋友的编号是从0到n-1)\n",
    "\n",
    "如果没有小朋友，请返回-1\n",
    "'''\n",
    "class Solution:\n",
    "    # 模拟法\n",
    "    def LastRemaining_Solution(self, n, m):\n",
    "        if not n or not m:\n",
    "            return -1\n",
    "        list_n = list(range(n))\n",
    "        while len(list_n)>1:\n",
    "            lenth = len(list_n)\n",
    "            i = m % lenth -1\n",
    "            del list_n[i]\n",
    "            if i!=-1:\n",
    "                list_n = list_n[i:]+list_n[:i]\n",
    "        return list_n[0] \n",
    "    # 递归法\n",
    "    def LastRemaining_Solution(self, n, m):\n",
    "        if n==0 or m==0:\n",
    "            return -1\n",
    "        if n == 1:\n",
    "            return 0\n",
    "        return (self.LastRemaining_Solution(n-1,m)+m)%n\n",
    "    # 地推法\n",
    "    def LastRemaining_Solution(self, n, m):\n",
    "        if n==0 or m==0:\n",
    "            return -1\n",
    "        s=0\n",
    "        for i in range(2,n+1):\n",
    "            s =(s + m) % i\n",
    "        return s\n",
    "            \n",
    "so = Solution()          \n",
    "so.LastRemaining_Solution(5,1)"
   ],
   "metadata": {
    "collapsed": false,
    "pycharm": {
     "name": "#%%\n",
     "is_executing": false
    }
   }
  },
  {
   "cell_type": "code",
   "execution_count": 7,
   "outputs": [
    {
     "data": {
      "text/plain": "15"
     },
     "metadata": {},
     "output_type": "execute_result",
     "execution_count": 7
    }
   ],
   "source": [
    "'''\n",
    "求1+2+3+...+n，要求不能使用乘除法、for、while、if、else、switch、\n",
    "case等关键字及条件判断语句（A?B:C）。\n",
    "'''\n",
    "class Solution:\n",
    "    def Sum_Solution(self, n):\n",
    "        # write code here\n",
    "        s = (n and n+self.Sum_Solution(n-1))\n",
    "        return s\n",
    "so = Solution()\n",
    "so.Sum_Solution(5)"
   ],
   "metadata": {
    "collapsed": false,
    "pycharm": {
     "name": "#%%\n",
     "is_executing": false
    }
   }
  },
  {
   "cell_type": "code",
   "execution_count": 8,
   "outputs": [],
   "source": [
    "'''\n",
    "写一个函数，求两个整数之和，要求在函数体内不得使用+、-、*、/\n",
    "四则运算符号。\n",
    "'''\n",
    "class Solution:\n",
    "    def Add(self, num1, num2):\n",
    "        while num2:\n",
    "            num1,num2 = (num1^num2)&0xffffffff,(num1&num2)<<1\n",
    "        return num1 if num1>>31 == 0 else num1 - 0x100000000"
   ],
   "metadata": {
    "collapsed": false,
    "pycharm": {
     "name": "#%%\n",
     "is_executing": false
    }
   }
  },
  {
   "cell_type": "code",
   "execution_count": 9,
   "outputs": [
    {
     "data": {
      "text/plain": "48"
     },
     "metadata": {},
     "output_type": "execute_result",
     "execution_count": 9
    }
   ],
   "source": [
    "'''\n",
    "将一个字符串转换成一个整数，要求不能使用字符串转换整数的库函数。 \n",
    "数值为0或者字符串不是一个合法的数值则返回0\n",
    "'''\n",
    "class Solution:\n",
    "    def StrToInt(self, s):\n",
    "        try:\n",
    "            s = eval(s)\n",
    "        except Exception as e:\n",
    "            return 0\n",
    "        return s if type(s)==int else 0\n",
    "    # def StrToInt(self, s):\n",
    "    #     sign = 1\n",
    "    #     tsum = 0\n",
    "    #     for i in range(len(s)):\n",
    "    #         if i == 0 and s[i] == '+':\n",
    "    #             sign = 1\n",
    "    #         elif i == 0 and s[i] == '-':\n",
    "    #             sign = -1\n",
    "    #         elif '0' <= s[i] <= '9':\n",
    "    #             tsum = tsum * 10 + ord(s[i])-ord('0') \n",
    "    #         else:\n",
    "    #             return 0\n",
    "    #     return sign * tsum\n",
    "so = Solution()\n",
    "so.StrToInt('12+36')"
   ],
   "metadata": {
    "collapsed": false,
    "pycharm": {
     "name": "#%%\n",
     "is_executing": false
    }
   }
  },
  {
   "cell_type": "code",
   "execution_count": 10,
   "outputs": [],
   "source": [
    "'''\n",
    "在一个长度为n的数组里的所有数字都在0到n-1的范围内。 数组中某些数字是重复的，\n",
    "但不知道有几个数字是重复的。也不知道每个数字重复几次。请找出数组中任意一个重复\n",
    "的数字。 例如，如果输入长度为7的数组{2,3,1,0,2,5,3}，那么对应的输出是第一个\n",
    "重复的数字2。\n",
    "'''\n",
    "class Solution:\n",
    "    # 这里要特别注意~找到任意重复的一个值并赋值到duplication[0]\n",
    "    # 函数返回True/False\n",
    "    def duplicate(self, numbers, duplication):\n",
    "        dict_number = {}\n",
    "        for val in numbers:\n",
    "            if val not in dict_number:\n",
    "                dict_number[val] = val\n",
    "            else:\n",
    "                duplication[0] = val\n",
    "                return True\n",
    "        return False"
   ],
   "metadata": {
    "collapsed": false,
    "pycharm": {
     "name": "#%%\n",
     "is_executing": false
    }
   }
  },
  {
   "cell_type": "code",
   "execution_count": 11,
   "outputs": [
    {
     "data": {
      "text/plain": "[120, 60, 40, 30, 24]"
     },
     "metadata": {},
     "output_type": "execute_result",
     "execution_count": 11
    }
   ],
   "source": [
    "'''\n",
    "给定一个数组A[0,1,...,n-1],请构建一个数组B[0,1,...,n-1],\n",
    "其中B中的元素B[i]=A[0]*A[1]*...*A[i-1]*A[i+1]*...*A[n-1]。不能使用除法。\n",
    "（注意：规定B[0] = A[1] * A[2] * ... * A[n-1]，B[n-1] = A[0] * A[1] * ... * A[n-2];）\n",
    "对于A长度为1的情况，B无意义，故而无法构建，因此该情况不会存在。\n",
    "'''\n",
    "class Solution:\n",
    "    def multiply(self, A):\n",
    "        length = len(A)\n",
    "        B = [1]\n",
    "        for i in range(1,length):\n",
    "            B.append(B[i-1] * A[i-1])\n",
    "        temp = 1\n",
    "        for j in range(length-1,-1,-1):\n",
    "            B[j] *= temp\n",
    "            temp *= A[j]\n",
    "        return B\n",
    "    # def multiply(self, A):\n",
    "    #     length = len(A)\n",
    "    #     B = []\n",
    "    #     for i in range(length):\n",
    "    #         bi = 1\n",
    "    #         for j in range(length):\n",
    "    #             if i == j:\n",
    "    #                 continue\n",
    "    #             bi *= A[j]\n",
    "    #         \n",
    "    #         B.append(bi)\n",
    "    #     return B\n",
    "\n",
    "so = Solution()\n",
    "so.multiply([1,2,3,4,5])"
   ],
   "metadata": {
    "collapsed": false,
    "pycharm": {
     "name": "#%%\n",
     "is_executing": false
    }
   }
  },
  {
   "cell_type": "code",
   "execution_count": 12,
   "outputs": [],
   "source": [
    "'''\n",
    "请实现一个函数用来匹配包括'.'和'*'的正则表达式。模式中的字符'.'表示任意一个字符，\n",
    "而'*'表示它前面的字符可以出现任意次（包含0次）。 在本题中，\n",
    "匹配是指字符串的所有字符匹配整个模式。例如，字符串\"aaa\"与模式\"a.a\"和\"ab*ac*a\"匹配，\n",
    "但是与\"aa.a\"和\"ab*a\"均不匹配,'a*'\n",
    "'''\n",
    "# 递归法\n",
    "class Solution:\n",
    "    # s, pattern都是字符串\n",
    "    def match(self, s, pattern):\n",
    "        if not pattern:\n",
    "            return not s\n",
    "        first = bool(s) and (s[0] == pattern[0] or pattern[0] == '.')\n",
    "        if len(pattern)>1 and pattern[1] == '*':\n",
    "            return self.match(s,pattern[2:]) or first and self.match(s[1:],pattern)\n",
    "        else:\n",
    "            return first and self.match(s[1:],pattern[1:])\n",
    "        "
   ],
   "metadata": {
    "collapsed": false,
    "pycharm": {
     "name": "#%%\n",
     "is_executing": false
    }
   }
  },
  {
   "cell_type": "code",
   "execution_count": 13,
   "outputs": [
    {
     "data": {
      "text/plain": "False"
     },
     "metadata": {},
     "output_type": "execute_result",
     "execution_count": 13
    }
   ],
   "source": [
    "# 非递归法\n",
    "class Solution:\n",
    "    # s, pattern都是字符串\n",
    "    def match(self, s, pattern):\n",
    "        len_s,len_pattern = len(s),len(pattern)\n",
    "        f = [[False] * (len_pattern+1) for _ in range(len_s+1)]\n",
    "        f[0][0] = True\n",
    "        for i in range(len_s+1):\n",
    "            for j in range(1,len_pattern+1):\n",
    "                if pattern[j-1] == '*':\n",
    "                    first = i>0 and j>1 and pattern[j-2] in {s[i-1],'.'}\n",
    "                    f[i][j] = f[i][j-2] or first and f[i-1][j]\n",
    "                else:\n",
    "                    first = i>0 and (s[i-1] == pattern[j-1] or pattern[j-1] == '.')\n",
    "                    f[i][j] = first and f[i-1][j-1]\n",
    "        return f[len_s][len_pattern]\n",
    "\n",
    "so = Solution()\n",
    "so.match('','.')"
   ],
   "metadata": {
    "collapsed": false,
    "pycharm": {
     "name": "#%%\n",
     "is_executing": false
    }
   }
  },
  {
   "cell_type": "code",
   "execution_count": 14,
   "outputs": [
    {
     "data": {
      "text/plain": "True"
     },
     "metadata": {},
     "output_type": "execute_result",
     "execution_count": 14
    }
   ],
   "source": [
    "'''\n",
    "请实现一个函数用来判断字符串是否表示数值（包括整数和小数）。例如，\n",
    "字符串\"+100\",\"5e2\",\"-123\",\"3.1416\"和\"-1E-16\"都表示数值。 \n",
    "但是\"12e\",\"1a3.14\",\"1.2.3\",\"+-5\"和\"12e+4.3\"都不是。\n",
    "'''\n",
    "class Solution:\n",
    "    # s字符串\n",
    "    def isNumeric(self, s):\n",
    "        for i in range(len(s)):\n",
    "            if s[i] not in {'+','-','e','E','.'} and (s[i] < '0' or s[i] > '9'):\n",
    "                return False\n",
    "            if s[i] in {'+','-'} and i > 0 and (s[i-1] not in {'e','E'} or i==len(s)-1):\n",
    "                return False\n",
    "            if s[i] in {'e','E'} and ('e' in s[:i]+s[i+1:] or 'E' in s[:i]+s[i+1:] or i==len(s)-1):\n",
    "                return False\n",
    "            if s[i] == '.':\n",
    "                if '.' in s[:i]+s[i+1:]:\n",
    "                    return False\n",
    "                if i == 0:\n",
    "                    return False\n",
    "                if 'e' in s[:i] or 'E' in s[:i]:\n",
    "                    return False\n",
    "\n",
    "        return True\n",
    "    '''抖机灵'''\n",
    "    def isNumeric(self, s):\n",
    "        try:\n",
    "            float(s)\n",
    "        except Exception:\n",
    "            return False\n",
    "        return True\n",
    "so = Solution()\n",
    "so.isNumeric('12e+5')\n"
   ],
   "metadata": {
    "collapsed": false,
    "pycharm": {
     "name": "#%%\n",
     "is_executing": false
    }
   }
  },
  {
   "cell_type": "code",
   "execution_count": 2,
   "outputs": [],
   "source": [
    "'''\n",
    "给一个链表，若其中包含环，请找出该链表的环的入口结点，否则，输出null。\n",
    "'''\n",
    "# 双指针法\n",
    "class Solution:\n",
    "    def EntryNodeOfLoop(self, pHead):\n",
    "        # write code here\n",
    "        p1,p2 = pHead,pHead\n",
    "        while p1 and p2 and p1.next and p2.next:\n",
    "            p1 = p1.next\n",
    "            p2 = p2.next.next\n",
    "            if p1 == p2:\n",
    "                p2 = pHead\n",
    "                break\n",
    "        else:\n",
    "            return None\n",
    "        while p1 != p2:\n",
    "            p1 = p1.next\n",
    "            p2 = p2.next\n",
    "        return p1\n",
    "            "
   ],
   "metadata": {
    "collapsed": false,
    "pycharm": {
     "name": "#%%\n",
     "is_executing": false
    }
   }
  },
  {
   "cell_type": "code",
   "execution_count": 3,
   "outputs": [],
   "source": [
    "# 哈希法\n",
    "class Solution:\n",
    "    def EntryNodeOfLoop(self, pHead):\n",
    "        set_node = set()\n",
    "        while pHead:\n",
    "            if pHead not in set_node:\n",
    "                set_node.add(pHead)\n",
    "                pHead = pHead.next\n",
    "            else:\n",
    "                return pHead\n",
    "        return None"
   ],
   "metadata": {
    "collapsed": false,
    "pycharm": {
     "name": "#%%\n",
     "is_executing": false
    }
   }
  },
  {
   "cell_type": "code",
   "execution_count": 2,
   "outputs": [],
   "source": [
    "'''\n",
    "在一个排序的链表中，存在重复的结点，请删除该链表中重复的结点，\n",
    "重复的结点不保留，返回链表头指针。 例如，\n",
    "链表1->2->3->3->4->4->5 处理后为 1->2->5\n",
    "11111\n",
    "{1,2,3,3,4,4,5}\n",
    "'''\n",
    "class ListNode:\n",
    "    def __init__(self, x):\n",
    "        self.val = x\n",
    "        self.next = None"
   ],
   "metadata": {
    "collapsed": false,
    "pycharm": {
     "name": "#%%\n",
     "is_executing": false
    }
   }
  },
  {
   "cell_type": "code",
   "execution_count": null,
   "outputs": [],
   "source": [
    "# 哈希法\n",
    "class Solution:\n",
    "    def deleteDuplication(self, pHead):\n",
    "        # write code here\n",
    "        pre = head = ListNode(None)\n",
    "        dict_node = {}\n",
    "        head.next = pHead\n",
    "        while pre.next:\n",
    "            curren = pre.next\n",
    "            if curren.val not in dict_node:\n",
    "                dict_node[curren.val] = pre\n",
    "                pre = pre.next\n",
    "            else:\n",
    "                dict_node[curren.val].next = curren.next\n",
    "                pre = dict_node[curren.val]\n",
    "\n",
    "        return head.next\n",
    "    "
   ],
   "metadata": {
    "collapsed": false,
    "pycharm": {
     "name": "#%%\n"
    }
   }
  },
  {
   "cell_type": "code",
   "execution_count": null,
   "outputs": [],
   "source": [
    "# 直接删除法\n",
    "class Solution:   \n",
    "    def deleteDuplication(self, pHead):\n",
    "        head=ListNode(None)\n",
    "        head.next=pHead\n",
    "        p1,p2=head,pHead\n",
    "        while p2 and p2.next:\n",
    "            if p2.val != p2.next.val:\n",
    "                p1 = p1.next\n",
    "                p2 = p2.next\n",
    "                continue\n",
    "            while p2.next and p2.val==p2.next.val:\n",
    "                p2=p2.next\n",
    "            p1.next = p2.next\n",
    "            p2=p1.next\n",
    "        return head.next"
   ],
   "metadata": {
    "collapsed": false,
    "pycharm": {
     "name": "#%%\n"
    }
   }
  },
  {
   "cell_type": "code",
   "execution_count": 3,
   "outputs": [
    {
     "name": "stdout",
     "text": [
      "2 4 "
     ],
     "output_type": "stream"
    }
   ],
   "source": [
    "# 递归\n",
    "class Solution:   \n",
    "    def deleteDuplication(self, pHead):\n",
    "        if not pHead or not pHead.next:\n",
    "            return pHead\n",
    "        next = self.deleteDuplication(pHead.next)\n",
    "        if not next:\n",
    "            if pHead.val==pHead.next.val:\n",
    "                return next\n",
    "            else:\n",
    "                pHead.next = next\n",
    "        else:\n",
    "            if pHead.val == next.val:\n",
    "                return next.next\n",
    "            elif pHead.val == pHead.next.val:\n",
    "                return next\n",
    "            else:\n",
    "                pHead.next = next\n",
    "        return pHead\n",
    "        \n",
    "        \n",
    "        \n",
    "        \n",
    "        \n",
    "pHead = ListNode(1)\n",
    "pHead.next = node2 = ListNode(1)\n",
    "node2.next = node3 = ListNode(2)\n",
    "node3.next = node4 = ListNode(3)\n",
    "node4.next = node5 = ListNode(3)\n",
    "node5.next = node6 = ListNode(4)\n",
    "node6.next = node7 = ListNode(5)\n",
    "node7.next = node8 = ListNode(5)\n",
    "so = Solution()\n",
    "pHead = so.deleteDuplication(pHead)\n",
    "while pHead:\n",
    "    print(pHead.val,end=' ')\n",
    "    pHead = pHead.next\n",
    "\n",
    "\n"
   ],
   "metadata": {
    "collapsed": false,
    "pycharm": {
     "name": "#%%\n",
     "is_executing": false
    }
   }
  },
  {
   "cell_type": "code",
   "execution_count": null,
   "outputs": [],
   "source": [
    "'''\n",
    "给定一个二叉树和其中的一个结点，请找出中序遍历顺序的下一个结点并且返回。\n",
    "注意，树中的结点不仅包含左右子结点，同时包含指向父结点的指针。\n",
    "'''\n",
    "class Solution:\n",
    "    def GetNext(self, pNode):\n",
    "        # write code here\n",
    "        if pNode.right:\n",
    "            p = pNode.right\n",
    "            while p.left:\n",
    "                p = p.left\n",
    "            return p\n",
    "        elif not pNode.next:\n",
    "            return None\n",
    "        elif pNode.next.left == pNode:\n",
    "            return pNode.next\n",
    "        elif pNode.next.right == pNode:\n",
    "            if pNode.next.next and pNode.next.next.left == pNode.next:\n",
    "                return pNode.next.next\n",
    "            else:\n",
    "                return None\n",
    "            \n"
   ],
   "metadata": {
    "collapsed": false,
    "pycharm": {
     "name": "#%%\n"
    }
   }
  },
  {
   "cell_type": "code",
   "execution_count": null,
   "outputs": [],
   "source": [
    "'''\n",
    "给定一个二叉树和其中的一个结点，请找出中序遍历顺序的下一个结点并且返回。\n",
    "注意，树中的结点不仅包含左右子结点，同时包含指向父结点的指针。\n",
    "'''\n",
    "class Solution:\n",
    "    def GetNext(self, pNode):\n",
    "        # write code here\n",
    "        if pNode.right:\n",
    "            p = pNode.right\n",
    "            while p.left:\n",
    "                p = p.left\n",
    "            return p\n",
    "        elif not pNode.next:\n",
    "            return None\n",
    "        elif pNode.next.left == pNode:\n",
    "            return pNode.next\n",
    "        elif pNode.next.right == pNode:\n",
    "            if pNode.next.next and pNode.next.next.left == pNode.next:\n",
    "                return pNode.next.next\n",
    "            else:\n",
    "                return None\n",
    "            "
   ],
   "metadata": {
    "collapsed": false,
    "pycharm": {
     "name": "#%%\n"
    }
   }
  },
  {
   "cell_type": "markdown",
   "source": [
    "# 动态规划--凑零钱问题\n",
    "> 给你  k  种⾯值的硬币，⾯值分别为  c1, c2 ... ck  ，每种硬\n",
    "币的数量⽆限，再给⼀个总⾦额  amount  ，问你最少需要⼏枚硬币凑出这个\n",
    "⾦额，如果不可能凑出，算法返回 -1 "
   ],
   "metadata": {
    "collapsed": false
   }
  },
  {
   "cell_type": "code",
   "execution_count": null,
   "outputs": [],
   "source": [
    "#暴力递归+备忘录优化\n",
    "from typing import List\n",
    "def coinChange(coins: List[int], amount: int):\n",
    "    # 备忘录\n",
    "    dict_memo = {}\n",
    "    def dp(n):\n",
    "        if n in dict_memo:\n",
    "            return dict_memo[n]\n",
    "        if n<0:\n",
    "            return -1\n",
    "        if n == 0:\n",
    "            return 0\n",
    "        res = n+1\n",
    "        for coin in coins:\n",
    "            sub_problem = dp(n-coin)\n",
    "            if sub_problem == -1:\n",
    "                continue\n",
    "            res = min(res,sub_problem+1)\n",
    "        dict_memo[n] = res if res!=n+1 else -1\n",
    "        return dict_memo[n]\n",
    "    \n",
    "    return dp(amount)\n",
    "\n",
    "coinChange([8,6,5],21)"
   ],
   "metadata": {
    "collapsed": false,
    "pycharm": {
     "name": "#%%\n"
    }
   }
  },
  {
   "cell_type": "code",
   "execution_count": null,
   "outputs": [],
   "source": [
    "from typing import List\n",
    "def coinChange(coins: List[int], amount: int):\n",
    "    dp = [amount+1] * (amount+1)\n",
    "    dp[0]=0\n",
    "    for i in range(1,amount+1):\n",
    "        for coin in coins:\n",
    "            if i-coin<0:\n",
    "                continue\n",
    "            dp[i] = min(dp[i],dp[i-coin]+1)\n",
    "    return dp[amount] if dp[amount]!=amount+1 else -1\n",
    "\n",
    "coinChange([8,6,5],21)"
   ],
   "metadata": {
    "collapsed": false,
    "pycharm": {
     "name": "#%%\n"
    }
   }
  },
  {
   "cell_type": "code",
   "execution_count": 1,
   "outputs": [],
   "source": [
    "'''\n",
    "给定一个二叉树和其中的一个结点，请找出中序遍历顺序的下一个结点并且返回。\n",
    "注意，树中的结点不仅包含左右子结点，同时包含指向父结点的指针。\n",
    "'''\n",
    "class Solution:\n",
    "    def GetNext(self, pNode):\n",
    "        # write code here\n",
    "        if pNode.right:\n",
    "            p = pNode.right\n",
    "            while p.left:\n",
    "                p = p.left\n",
    "            return p\n",
    "        elif not pNode.next:\n",
    "            return None\n",
    "        elif pNode.next.left == pNode:\n",
    "            return pNode.next\n",
    "        elif pNode.next.right == pNode:\n",
    "            if pNode.next.next and pNode.next.next.left == pNode.next:\n",
    "                return pNode.next.next\n",
    "            else:\n",
    "                return None\n",
    "            "
   ],
   "metadata": {
    "collapsed": false,
    "pycharm": {
     "name": "#%%\n",
     "is_executing": false
    }
   }
  },
  {
   "cell_type": "code",
   "execution_count": null,
   "outputs": [],
   "source": [
    "'''\n",
    "给定一个二叉树和其中的一个结点，请找出中序遍历顺序的下一个结点并且返回。\n",
    "注意，树中的结点不仅包含左右子结点，同时包含指向父结点的指针。\n",
    "'''\n",
    "class Solution:\n",
    "    def GetNext(self, pNode):\n",
    "        # write code here\n",
    "        if pNode.right:\n",
    "            p = pNode.right\n",
    "            while p.left:\n",
    "                p = p.left\n",
    "            return p\n",
    "        elif not pNode.next:\n",
    "            return None\n",
    "        elif pNode.next.left == pNode:\n",
    "            return pNode.next\n",
    "        elif pNode.next.right == pNode:\n",
    "            if pNode.next.next and pNode.next.next.left == pNode.next:\n",
    "                return pNode.next.next\n",
    "            else:\n",
    "                return None"
   ],
   "metadata": {
    "collapsed": false,
    "pycharm": {
     "name": "#%%\n"
    }
   }
  },
  {
   "cell_type": "markdown",
   "source": [
    "# 动态规划--凑零钱问题\n",
    "> 给你k种数值的硬币，数值分别为 c1, c2 ... ck  ，每种硬\n",
    "币的数量无限，再给1个总金额 amount  ，问你最少需要几枚硬币凑出这个数额，\n",
    ">如果不可能凑出，算法返回 -1 "
   ],
   "metadata": {
    "collapsed": false,
    "pycharm": {
     "name": "#%% md\n"
    }
   }
  },
  {
   "cell_type": "code",
   "execution_count": 16,
   "outputs": [
    {
     "data": {
      "text/plain": "3"
     },
     "metadata": {},
     "output_type": "execute_result",
     "execution_count": 16
    }
   ],
   "source": [
    "#暴力递归+备忘录优化\n",
    "from typing import List\n",
    "def coinChange(coins: List[int], amount: int):\n",
    "    # 备忘录\n",
    "    dict_memo = {}\n",
    "    def dp(n):\n",
    "        if n in dict_memo:\n",
    "            return dict_memo[n]\n",
    "        if n<0:\n",
    "            return -1\n",
    "        if n == 0:\n",
    "            return 0\n",
    "        res = n+1\n",
    "        for coin in coins:\n",
    "            sub_problem = dp(n-coin)\n",
    "            if sub_problem == -1:\n",
    "                continue\n",
    "            res = min(res,sub_problem+1)\n",
    "        dict_memo[n] = res if res!=n+1 else -1\n",
    "        return dict_memo[n]\n",
    "    \n",
    "    return dp(amount)\n",
    "\n",
    "coinChange([8,6,5],21)"
   ],
   "metadata": {
    "collapsed": false,
    "pycharm": {
     "name": "#%%\n",
     "is_executing": false
    }
   }
  },
  {
   "cell_type": "code",
   "execution_count": 17,
   "outputs": [
    {
     "data": {
      "text/plain": "3"
     },
     "metadata": {},
     "output_type": "execute_result",
     "execution_count": 17
    }
   ],
   "source": [
    "from typing import List\n",
    "def coinChange(coins: List[int], amount: int):\n",
    "    dp = [amount+1] * (amount+1)\n",
    "    dp[0]=0\n",
    "    for i in range(1,amount+1):\n",
    "        for coin in coins:\n",
    "            if i-coin<0:\n",
    "                continue\n",
    "            dp[i] = min(dp[i],dp[i-coin]+1)\n",
    "    return dp[amount] if dp[amount]!=amount+1 else -1\n",
    "\n",
    "coinChange([8,6,5],21)\n",
    "\n",
    "\n",
    "    "
   ],
   "metadata": {
    "collapsed": false,
    "pycharm": {
     "name": "#%%\n",
     "is_executing": false
    }
   }
  },
  {
   "cell_type": "code",
   "execution_count": 13,
   "outputs": [
    {
     "data": {
      "text/plain": "[['a', 'b', 'b'], ['a', 'b', 'a', 'b'], ['a', 'b', 'a', 'b', 'a']]"
     },
     "metadata": {},
     "output_type": "execute_result",
     "execution_count": 13
    }
   ],
   "source": [
    "def permute(list_target):\n",
    "    res,route=[],[]\n",
    "    def backtrack(remain_list):\n",
    "        if len(remain_list) == 1:\n",
    "            route.append(remain_list[0])\n",
    "            res.append(route[:])\n",
    "            route.pop()\n",
    "            return \n",
    "        set_memo = set()\n",
    "        for i in range(len(remain_list)):\n",
    "            if remain_list[i] in set_memo:\n",
    "                continue\n",
    "            set_memo.add(remain_list[i])\n",
    "            route.append(remain_list[i])\n",
    "            backtrack(remain_list[:i]+remain_list[i+1:])\n",
    "            route.pop()\n",
    "    backtrack(list_target)\n",
    "    return res\n",
    "\n",
    "permute(['a','b','b'])"
   ],
   "metadata": {
    "collapsed": false,
    "pycharm": {
     "name": "#%%\n",
     "is_executing": false
    }
   }
  },
  {
   "cell_type": "code",
   "execution_count": 20,
   "outputs": [
    {
     "data": {
      "text/plain": "[[1, 3, 1], [1, 1, 3], [3, 1, 1]]"
     },
     "metadata": {},
     "output_type": "execute_result",
     "execution_count": 20
    }
   ],
   "source": [
    "# 交换法\n",
    "res,route = [],[]\n",
    "def permute(list_target):\n",
    "    if not list_target:\n",
    "        res.append(route[:])\n",
    "        return \n",
    "    set_memo = set()\n",
    "    for i in range(len(list_target)):\n",
    "        if list_target[i] in set_memo:\n",
    "            continue\n",
    "        set_memo.add(list_target[i])\n",
    "        list_target[0],list_target[i] = list_target[i],list_target[0]\n",
    "        route.append(list_target[0])\n",
    "        permute(list_target[1:])\n",
    "        route.pop()\n",
    "    return res\n",
    "permute([1,3,1])"
   ],
   "metadata": {
    "collapsed": false,
    "pycharm": {
     "name": "#%%\n",
     "is_executing": false
    }
   }
  },
  {
   "cell_type": "code",
   "execution_count": 23,
   "outputs": [
    {
     "data": {
      "text/plain": "['abb', 'bab', 'bba']"
     },
     "metadata": {},
     "output_type": "execute_result",
     "execution_count": 23
    }
   ],
   "source": [
    "class Solution:\n",
    "    def Permutation(self, ss):\n",
    "        list_ss=list(ss) #字符串无法改变值，所以先转换成list\n",
    "        route,res = [],[]\n",
    "        return self.all_order(list_ss,route,res)\n",
    "        # return sorted(res) #按字典顺序排序\n",
    "        \n",
    "    def all_order(self, list_remain,route,res):\n",
    "        if not list_remain:\n",
    "            res.append(''.join(route))\n",
    "        set_memo = set()\n",
    "        for i in range(len(list_remain)):\n",
    "            if list_remain[i] in set_memo:\n",
    "                continue\n",
    "            route.append(list_remain[i])\n",
    "            set_memo.add(list_remain[i])\n",
    "            list_remain[0], list_remain[i], = list_remain[i], list_remain[0]\n",
    "            self.all_order(list_remain[1:], route, res)\n",
    "            route.pop()\n",
    "        return res\n",
    "\n",
    "so = Solution()\n",
    "so.Permutation('abb')"
   ],
   "metadata": {
    "collapsed": false,
    "pycharm": {
     "name": "#%%\n",
     "is_executing": false
    }
   }
  },
  {
   "cell_type": "markdown",
   "source": [
    "# n皇后问题\n",
    "> 这个问题很经典了，简单解释下：给你1个 N×N 的棋盘，让你放置 N 个\n",
    "皇后，使得它们不能互相攻击。\n",
    "PS：皇后可以攻击同行、同列、左上左下右上右下四个方向的任意单\n",
    "位。\n",
    "这个问题本质上跟全排列问题差不多，决策树的每层表示棋盘上的每\n",
    "行；每个节点可以做出的选择是，在该行的任意一列放置1个皇后。"
   ],
   "metadata": {
    "collapsed": false
   }
  },
  {
   "cell_type": "code",
   "execution_count": 26,
   "outputs": [
    {
     "data": {
      "text/plain": "92"
     },
     "metadata": {},
     "output_type": "execute_result",
     "execution_count": 26
    }
   ],
   "source": [
    "from copy import deepcopy\n",
    "def solveNQueens(n):\n",
    "    board = [['.'] * n for i in range(n)] \n",
    "    res = []\n",
    "    backtrack(board,0,res)\n",
    "    return res\n",
    "def backtrack(board, row, res):\n",
    "    if row == len(board):\n",
    "        res.append(deepcopy(board))\n",
    "        return \n",
    "    n = len(board[row])\n",
    "    for col in range(n):\n",
    "        if not is_valid(board,row,col):\n",
    "            continue\n",
    "        board[row][col] = 'Q'\n",
    "        backtrack(board,row+1,res)\n",
    "        board[row][col] = '.'\n",
    "\n",
    "def is_valid(board,row,col):\n",
    "    for r in range(row):\n",
    "        if board[r][col] == 'Q':\n",
    "            return False\n",
    "    \n",
    "    r,c = row-1,col-1\n",
    "    while r>=0 and c>=0:\n",
    "        if board[r][c] == 'Q':\n",
    "            return False\n",
    "        r -=1\n",
    "        c -=1\n",
    "    r,c = row-1,col+1\n",
    "    while r>=0 and c<len(board[row]):\n",
    "        if board[r][c] == 'Q':\n",
    "            return False\n",
    "        r -=1\n",
    "        c +=1\n",
    "    return True\n",
    "        \n",
    "len(solveNQueens(8))"
   ],
   "metadata": {
    "collapsed": false,
    "pycharm": {
     "name": "#%%\n",
     "is_executing": false
    }
   }
  }
 ],
 "metadata": {
  "kernelspec": {
   "name": "pycharm-d9140f32",
   "language": "python",
   "display_name": "PyCharm (test)"
  },
  "language_info": {
   "codemirror_mode": {
    "name": "ipython",
    "version": 2
   },
   "file_extension": ".py",
   "mimetype": "text/x-python",
   "name": "python",
   "nbconvert_exporter": "python",
   "pygments_lexer": "ipython2",
   "version": "2.7.6"
  },
  "pycharm": {
   "stem_cell": {
    "cell_type": "raw",
    "source": [],
    "metadata": {
     "collapsed": false
    }
   }
  }
 },
 "nbformat": 4,
 "nbformat_minor": 0
}