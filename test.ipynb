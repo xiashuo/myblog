{
 "cells": [
  {
   "cell_type": "code",
   "execution_count": 1,
   "metadata": {
    "collapsed": true,
    "pycharm": {
     "is_executing": false,
     "name": "#%%\n"
    }
   },
   "outputs": [
    {
     "name": "stdout",
     "text": [
      "A1B2C3D4E5F6G7H8I9J10K11L12M13N14O15P16Q17R18S19T20U21V22W23X24Y25Z26"
     ],
     "output_type": "stream"
    }
   ],
   "source": [
    "# 线程同步\n",
    "# 多线程交替打印字母和数字\n",
    "from threading import Thread,Lock\n",
    "def print_abc():\n",
    "    for i in range(ord('A'),ord('Z')+1):\n",
    "        lock1.acquire()\n",
    "        print(chr(i),end='')\n",
    "        lock2.release()\n",
    "\n",
    "def print_digital():\n",
    "    for i in range(1,27):\n",
    "        lock2.acquire()\n",
    "        print(i,end='')\n",
    "        lock1.release()\n",
    "\n",
    "lock1 = Lock()\n",
    "lock2 = Lock()\n",
    "lock2.acquire()\n",
    "t1 = Thread(target=print_abc)\n",
    "t2 = Thread(target=print_digital)\n",
    "t1.start()\n",
    "t2.start()\n",
    "t1.join()\n",
    "t2.join()"
   ]
  },
  {
   "cell_type": "code",
   "execution_count": 1,
   "outputs": [
    {
     "data": {
      "text/plain": "[[1, 2, 3, 4, 5], [4, 5, 6], [7, 8]]"
     },
     "metadata": {},
     "output_type": "execute_result",
     "execution_count": 1
    }
   ],
   "source": [
    "'''\n",
    "小明很喜欢数学,有一天他在做数学作业时,要求计算出9~16的和,他马上就写出了正确答案是\n",
    "100。但是他并不满足于此,他在想究竟有多少种连续的正数序列的和为100(至少包括两个数)。\n",
    "没多久,他就得到另一组连续正数和为100的序列:18,19,20,21,22。现在把问题交给你,\n",
    "你能不能也很快的找出所有和为S的连续正数序列? Good Luck!\n",
    "'''\n",
    "from math import sqrt\n",
    "class Solution:\n",
    "    # 数学方法\n",
    "    def FindContinuousSequence(self, tsum):\n",
    "        result = []\n",
    "        for i in range(int(sqrt(2*tsum)),1,-1):\n",
    "            x = ((2*float(tsum)/i)-i+1) / 2\n",
    "            if round(x)==x:\n",
    "                result.append([j for j in range(int(x),int(x+i))])\n",
    "        return result\n",
    "   \n",
    "    def FindContinuousSequence(self, tsum):\n",
    "        # 初始化窗口\n",
    "        l,r = 1,1\n",
    "        sum = 0\n",
    "        result = []\n",
    "        # 因为至少要包括2个数，所以l < tsum/2\n",
    "        while l < tsum/2:\n",
    "            # 比目标和小，累加，增大窗口，窗口右边加1\n",
    "            if sum < tsum:\n",
    "                sum +=r\n",
    "                r +=1\n",
    "            # 比目标和大，减去最左边的数字，减小窗口，窗口左边加1\n",
    "            elif sum > tsum:\n",
    "                sum -=l\n",
    "                l +=1\n",
    "            # 相等，将窗口中的数字添加到结果，减去最左边的数字，窗口减小，窗口左边加1\n",
    "            else:\n",
    "                result.append([i for i in range(l,r)])\n",
    "                sum -=l\n",
    "                l +=1\n",
    "        return result    \n",
    "                \n",
    "so = Solution()\n",
    "so.FindContinuousSequence(15)\n"
   ],
   "metadata": {
    "collapsed": false,
    "pycharm": {
     "name": "#%%\n",
     "is_executing": false
    }
   }
  },
  {
   "cell_type": "code",
   "execution_count": 6,
   "outputs": [
    {
     "data": {
      "text/plain": "[]"
     },
     "metadata": {},
     "output_type": "execute_result",
     "execution_count": 6
    }
   ],
   "source": [
    "'''\n",
    "输入一个递增排序的数组和一个数字S，在数组中查找两个数，使得他们的和正好是S，\n",
    "如果有多对数字的和等于S，输出两个数的乘积最小的。\n",
    "'''\n",
    "class Solution:\n",
    "    def FindNumbersWithSum(self, array, tsum):\n",
    "        i,j = 0,len(array)-1\n",
    "        while i<j:\n",
    "            s = array[i] + array[j]\n",
    "            if s>tsum:\n",
    "                j-=1\n",
    "            elif s<tsum:\n",
    "                i+=1\n",
    "            else:\n",
    "                return [array[i],array[j]]\n",
    "        return []\n",
    "\n",
    "so = Solution()\n",
    "so.FindNumbersWithSum([1,2,4,7,11,16],10)"
   ],
   "metadata": {
    "collapsed": false,
    "pycharm": {
     "name": "#%%\n",
     "is_executing": false
    }
   }
  }
 ],
 "metadata": {
  "kernelspec": {
   "display_name": "Python 3",
   "language": "python",
   "name": "python3"
  },
  "language_info": {
   "codemirror_mode": {
    "name": "ipython",
    "version": 2
   },
   "file_extension": ".py",
   "mimetype": "text/x-python",
   "name": "python",
   "nbconvert_exporter": "python",
   "pygments_lexer": "ipython2",
   "version": "2.7.6"
  },
  "pycharm": {
   "stem_cell": {
    "cell_type": "raw",
    "source": [],
    "metadata": {
     "collapsed": false
    }
   }
  }
 },
 "nbformat": 4,
 "nbformat_minor": 0
}