{
 "cells": [
  {
   "cell_type": "code",
   "execution_count": 8,
   "metadata": {
    "collapsed": true,
    "pycharm": {
     "is_executing": false,
     "name": "#%%\n"
    }
   },
   "outputs": [
    {
     "name": "stdout",
     "text": [
      "A1B2C3D4E5F6G7H8I9J10K11L12M13N14O15P16Q17R18S19T20U21V22W23X24Y25Z26"
     ],
     "output_type": "stream"
    }
   ],
   "source": [
    "# 线程同步\n",
    "# 多线程交替打印字母和数字\n",
    "from threading import Thread,Lock\n",
    "def print_abc():\n",
    "    for i in range(ord('A'),ord('Z')+1):\n",
    "        lock1.acquire()\n",
    "        print(chr(i),end='')\n",
    "        lock2.release()\n",
    "\n",
    "def print_digital():\n",
    "    for i in range(1,27):\n",
    "        lock2.acquire()\n",
    "        print(i,end='')\n",
    "        lock1.release()\n",
    "\n",
    "lock1 = Lock()\n",
    "lock2 = Lock()\n",
    "lock2.acquire()\n",
    "t1 = Thread(target=print_abc)\n",
    "t2 = Thread(target=print_digital)\n",
    "t1.start()\n",
    "t2.start()\n",
    "t1.join()\n",
    "t2.join()\n"
   ]
  }
 ],
 "metadata": {
  "kernelspec": {
   "display_name": "Python 3",
   "language": "python",
   "name": "python3"
  },
  "language_info": {
   "codemirror_mode": {
    "name": "ipython",
    "version": 2
   },
   "file_extension": ".py",
   "mimetype": "text/x-python",
   "name": "python",
   "nbconvert_exporter": "python",
   "pygments_lexer": "ipython2",
   "version": "2.7.6"
  },
  "pycharm": {
   "stem_cell": {
    "cell_type": "raw",
    "source": [],
    "metadata": {
     "collapsed": false
    }
   }
  }
 },
 "nbformat": 4,
 "nbformat_minor": 0
}